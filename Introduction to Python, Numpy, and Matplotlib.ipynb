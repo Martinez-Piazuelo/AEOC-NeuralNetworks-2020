{
 "cells": [
  {
   "cell_type": "markdown",
   "metadata": {},
   "source": [
    "## Python3 basics"
   ]
  },
  {
   "cell_type": "code",
   "execution_count": 1,
   "metadata": {},
   "outputs": [
    {
     "name": "stdout",
     "output_type": "stream",
     "text": [
      "a = 2\n",
      "2*a = 4\n",
      "a+a = 4\n",
      "a/a = 1.0\n",
      "a**2 = 4\n"
     ]
    }
   ],
   "source": [
    "a = 2\n",
    "print('a =', a)\n",
    "print('2*a =', 2*a)\n",
    "print('a+a =', a+a)\n",
    "print('a/a =', a/a)\n",
    "print('a**2 =', a**2)"
   ]
  },
  {
   "cell_type": "code",
   "execution_count": 2,
   "metadata": {
    "scrolled": true
   },
   "outputs": [
    {
     "name": "stdout",
     "output_type": "stream",
     "text": [
      "a: [1, 2, 3, 4]\n",
      "b: [1, 2, 3, 4, 1, 2, 3, 4]\n",
      "First a: 1\n",
      "Last a: 4\n",
      "Last a: 4\n"
     ]
    }
   ],
   "source": [
    "a = [1, 2, 3, 4] # a is a list with 4 elements\n",
    "b = a + a        # b is a list with 8 elements\n",
    "print('a:', a)\n",
    "print('b:', b)\n",
    "print('First a:', a[0])\n",
    "print('Last a:', a[3])\n",
    "print('Last a:', a[-1])"
   ]
  },
  {
   "cell_type": "code",
   "execution_count": 3,
   "metadata": {},
   "outputs": [
    {
     "data": {
      "text/plain": [
       "[1, 2, 3, 4, 1, 2, 3, 4]"
      ]
     },
     "execution_count": 3,
     "metadata": {},
     "output_type": "execute_result"
    }
   ],
   "source": [
    "# Lists do not support math operations\n",
    "2 * a # Equals b"
   ]
  },
  {
   "cell_type": "code",
   "execution_count": 4,
   "metadata": {},
   "outputs": [
    {
     "name": "stdout",
     "output_type": "stream",
     "text": [
      "x =  1  is not greater than 2\n",
      "x =  2  is not greater than 2\n",
      "x =  10  is greater than 2\n"
     ]
    },
    {
     "data": {
      "text/plain": [
       "10"
      ]
     },
     "execution_count": 4,
     "metadata": {},
     "output_type": "execute_result"
    }
   ],
   "source": [
    "def fun(x):\n",
    "    if(x > 2):\n",
    "        print('x = ', x,' is greater than 2')\n",
    "        return x\n",
    "    else:\n",
    "        print('x = ', x, ' is not greater than 2')\n",
    "        return x\n",
    "\n",
    "fun(1)\n",
    "fun(2)\n",
    "fun(10)"
   ]
  },
  {
   "cell_type": "code",
   "execution_count": 5,
   "metadata": {},
   "outputs": [
    {
     "name": "stdout",
     "output_type": "stream",
     "text": [
      "0\n",
      "1\n",
      "2\n",
      "3\n",
      "4\n"
     ]
    }
   ],
   "source": [
    "for i in range(5):\n",
    "    print(i)"
   ]
  },
  {
   "cell_type": "code",
   "execution_count": 6,
   "metadata": {},
   "outputs": [
    {
     "name": "stdout",
     "output_type": "stream",
     "text": [
      "1\n",
      "2\n",
      "3\n",
      "4\n"
     ]
    }
   ],
   "source": [
    "b = [1, 2, 3, 4]\n",
    "for e in b:\n",
    "    print(e)"
   ]
  },
  {
   "cell_type": "code",
   "execution_count": 7,
   "metadata": {},
   "outputs": [
    {
     "name": "stdout",
     "output_type": "stream",
     "text": [
      "0 1\n",
      "1 2\n",
      "2 3\n",
      "3 4\n"
     ]
    }
   ],
   "source": [
    "b = [1, 2, 3, 4]\n",
    "for i, e in enumerate(b):\n",
    "    print(i, e)"
   ]
  },
  {
   "cell_type": "code",
   "execution_count": 8,
   "metadata": {},
   "outputs": [
    {
     "name": "stdout",
     "output_type": "stream",
     "text": [
      "Parameter of instance 1: 1234567\n",
      "Parameter of instance 2: 1234\n",
      "Parameter of instance 1: 12314\n",
      "Parameter of instance 2: 1234\n"
     ]
    }
   ],
   "source": [
    "class example_class():\n",
    "    def __init__(self, param=1234):\n",
    "        self.param = param\n",
    "        \n",
    "    def get_param(self):\n",
    "        return self.param\n",
    "    \n",
    "    def set_param(self, param):\n",
    "        self.param = param\n",
    "        \n",
    "instance1 = example_class(param=1234567)\n",
    "instance2 = example_class()\n",
    "\n",
    "print('Parameter of instance 1:', instance1.get_param())\n",
    "print('Parameter of instance 2:', instance2.get_param())\n",
    "\n",
    "instance1.set_param(12314)\n",
    "\n",
    "print('Parameter of instance 1:', instance1.get_param())\n",
    "print('Parameter of instance 2:', instance2.get_param())\n"
   ]
  },
  {
   "cell_type": "markdown",
   "metadata": {},
   "source": [
    "## Numpy basics"
   ]
  },
  {
   "cell_type": "code",
   "execution_count": 9,
   "metadata": {},
   "outputs": [],
   "source": [
    "import numpy as np"
   ]
  },
  {
   "cell_type": "code",
   "execution_count": 10,
   "metadata": {},
   "outputs": [
    {
     "name": "stdout",
     "output_type": "stream",
     "text": [
      "a =  [1, 2, 3, 4]\n",
      "2*a =  [1, 2, 3, 4, 1, 2, 3, 4]\n",
      "b =  [1 2 3 4]\n",
      "2*b  =  [2 4 6 8]\n"
     ]
    }
   ],
   "source": [
    "a = [1, 2, 3, 4] # Python list (does not support math operations)\n",
    "print('a = ', a)\n",
    "print('2*a = ', 2*a)\n",
    "\n",
    "b = np.array(a) # numpy array (supports math operations)\n",
    "print('b = ', b)\n",
    "print('2*b  = ', 2*b)"
   ]
  },
  {
   "cell_type": "code",
   "execution_count": 11,
   "metadata": {},
   "outputs": [
    {
     "name": "stdout",
     "output_type": "stream",
     "text": [
      "[[0.4391437  0.10286357 0.32787726 0.03364414 0.15769469]\n",
      " [0.10215845 0.54773821 0.49635846 0.19891639 0.17983485]\n",
      " [0.95357384 0.9921781  0.27320567 0.34973191 0.69555531]\n",
      " [0.47235947 0.45633353 0.45882353 0.74829926 0.09968416]\n",
      " [0.62239052 0.86329198 0.07745655 0.12350073 0.03959244]]\n",
      "(5, 5)\n",
      "0.43914369978028456\n",
      "0.6955553073853882\n",
      "[0.4391437  0.10215845 0.95357384 0.47235947 0.62239052]\n"
     ]
    }
   ],
   "source": [
    "b = np.random.random((5, 5)) # 5x5 random matrix\n",
    "print(b)\n",
    "print(b.shape)\n",
    "print(b[0, 0])\n",
    "print(b[2, -1])\n",
    "print(b[:, 0])"
   ]
  },
  {
   "cell_type": "code",
   "execution_count": 12,
   "metadata": {},
   "outputs": [
    {
     "name": "stdout",
     "output_type": "stream",
     "text": [
      "[[0.75167356 0.53999442]\n",
      " [0.504902   0.29640418]\n",
      " [0.32348427 0.15150468]]\n",
      "(3, 2)\n",
      "[[0.75167356 0.504902   0.32348427]\n",
      " [0.53999442 0.29640418 0.15150468]]\n",
      "(2, 3)\n"
     ]
    }
   ],
   "source": [
    "a = np.random.random((3, 2))\n",
    "print(a)\n",
    "print(a.shape)\n",
    "print(a.T)\n",
    "print((a.T).shape)"
   ]
  },
  {
   "cell_type": "code",
   "execution_count": 13,
   "metadata": {},
   "outputs": [
    {
     "name": "stdout",
     "output_type": "stream",
     "text": [
      "a*b =\n",
      " [0 0 3 0] (4,)\n",
      "a*c =\n",
      " [[0 0 0 0]\n",
      " [0 0 0 0]\n",
      " [1 2 3 4]\n",
      " [0 0 0 0]] (4, 4)\n",
      "a*d =\n",
      " [[0 0 3 0]] (1, 4)\n"
     ]
    }
   ],
   "source": [
    "a = np.array([1, 2, 3, 4])\n",
    "b = np.array([0, 0, 1, 0])\n",
    "\n",
    "print('a*b =\\n', a*b, (a*b).shape)\n",
    "\n",
    "c = b.reshape(-1, 1) # Column vector\n",
    "print('a*c =\\n', a*c, (a*c).shape)\n",
    "\n",
    "d = b.reshape(1, -1) # Row vector\n",
    "print('a*d =\\n', a*d, (a*d).shape)"
   ]
  },
  {
   "cell_type": "code",
   "execution_count": 14,
   "metadata": {},
   "outputs": [
    {
     "name": "stdout",
     "output_type": "stream",
     "text": [
      "C = AB =\n",
      " [[2. 2. 2. 2. 2. 2. 2. 2. 2. 2.]\n",
      " [2. 2. 2. 2. 2. 2. 2. 2. 2. 2.]\n",
      " [2. 2. 2. 2. 2. 2. 2. 2. 2. 2.]] (3, 10)\n"
     ]
    }
   ],
   "source": [
    "A = np.ones((3, 2))\n",
    "B = np.ones((2, 10))\n",
    "\n",
    "C = np.dot(A, B)\n",
    "print('C = AB =\\n', C, C.shape)\n",
    "\n",
    "#C = np.dot(B, A) # Invalid operation"
   ]
  },
  {
   "cell_type": "code",
   "execution_count": 15,
   "metadata": {},
   "outputs": [
    {
     "name": "stdout",
     "output_type": "stream",
     "text": [
      "[0 1 2 3 4 5 6 7 8 9]\n",
      "[ 0  1  4  9 16 25 36 49 64 81]\n"
     ]
    }
   ],
   "source": [
    "def fun(x):\n",
    "    y = np.square(x)\n",
    "    return y\n",
    "\n",
    "x = np.arange(10)\n",
    "\n",
    "print(x)\n",
    "print(fun(x))"
   ]
  },
  {
   "cell_type": "markdown",
   "metadata": {},
   "source": [
    "## Matplotlib"
   ]
  },
  {
   "cell_type": "code",
   "execution_count": 16,
   "metadata": {},
   "outputs": [],
   "source": [
    "%matplotlib inline\n",
    "import matplotlib.pyplot as plt"
   ]
  },
  {
   "cell_type": "code",
   "execution_count": 17,
   "metadata": {},
   "outputs": [
    {
     "data": {
      "image/png": "[encoded data removed]",
      "text/plain": [
       "<Figure size 432x288 with 1 Axes>"
      ]
     },
     "metadata": {
      "needs_background": "light"
     },
     "output_type": "display_data"
    }
   ],
   "source": [
    "def f(x):\n",
    "    return x**2\n",
    "\n",
    "x = np.linspace(0, 10, num=1000)\n",
    "y = f(x)\n",
    "\n",
    "plt.figure()\n",
    "plt.plot(x, y, color='red', label='y = f(x)', linestyle='dashed')\n",
    "plt.xlabel('x')\n",
    "plt.ylabel('y')\n",
    "plt.grid()\n",
    "plt.legend();\n",
    "#plt.show() # Required outside the notebook"
   ]
  }
 ],
 "metadata": {
  "kernelspec": {
   "display_name": "Python 3",
   "language": "python",
   "name": "python3"
  },
  "language_info": {
   "codemirror_mode": {
    "name": "ipython",
    "version": 3
   },
   "file_extension": ".py",
   "mimetype": "text/x-python",
   "name": "python",
   "nbconvert_exporter": "python",
   "pygments_lexer": "ipython3",
   "version": "3.6.8"
  }
 },
 "nbformat": 4,
 "nbformat_minor": 4
}
