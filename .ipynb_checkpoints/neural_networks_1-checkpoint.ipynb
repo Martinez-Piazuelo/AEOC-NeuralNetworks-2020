{
 "cells": [
  {
   "cell_type": "code",
   "execution_count": 1,
   "metadata": {},
   "outputs": [],
   "source": [
    "import numpy as np\n",
    "import matplotlib.pyplot as plt\n",
    "%matplotlib inline\n",
    "from core.data.data_utils import *"
   ]
  },
  {
   "cell_type": "markdown",
   "metadata": {},
   "source": [
    "## Nonlinear Regression"
   ]
  },
  {
   "cell_type": "code",
   "execution_count": 2,
   "metadata": {},
   "outputs": [
    {
     "data": {
      "image/png": "[encoded data removed]",
      "text/plain": [
       "<Figure size 432x288 with 1 Axes>"
      ]
     },
     "metadata": {
      "needs_background": "light"
     },
     "output_type": "display_data"
    }
   ],
   "source": [
    "data = generate_data_for_regression() # Generates 1000 (x,y*) points"
   ]
  },
  {
   "cell_type": "markdown",
   "metadata": {},
   "source": [
    "### Exercise\n",
    "Train a two layer neural network with sigmoid activation functions to approximate the nonlinear function depicted in the figure."
   ]
  },
  {
   "cell_type": "markdown",
   "metadata": {},
   "source": [
    "### Initialization"
   ]
  },
  {
   "cell_type": "code",
   "execution_count": 16,
   "metadata": {},
   "outputs": [],
   "source": [
    "m = 100 # Batch size\n",
    "learning_rate = 0.01\n",
    "n1 = 10 # Number of neurons in the hidden layer\n",
    "n2 = 1  # Number of neurons in the output layer (equal to the output dim)\n",
    "\n",
    "# Initialization of parameters\n",
    "W1 = np.random.normal(loc=0, scale=0.1, size=(n1, 1))  # Input dim = 1\n",
    "b1 = np.zeros((n1, 1))\n",
    "W2 = np.random.normal(loc=0, scale=0.1, size=(n2, n1))\n",
    "b2 = np.zeros((n2, 1))\n",
    "ones_m = np.ones((m, 1))"
   ]
  },
  {
   "cell_type": "code",
   "execution_count": 20,
   "metadata": {},
   "outputs": [],
   "source": [
    "def sigmoid(q, compute_derivative=False):\n",
    "    y = 1/(1 + np.exp(-q))\n",
    "    dydq = 0\n",
    "    if(compute_derivative):\n",
    "        dydq = y*(1 - y)\n",
    "    return y, dydq\n",
    "\n",
    "def linear(q, compute_derivative=False):\n",
    "    y = q\n",
    "    dydq = 0\n",
    "    if(compute_derivative):\n",
    "        dydq = np.ones_like(q)\n",
    "    return y, dydq\n",
    "\n",
    "def loss(y, y_star, compute_derivative=False):\n",
    "    l = 0.5*(y_star - y)**2\n",
    "    dldy = 0\n",
    "    if(compute_derivative):\n",
    "        dldy = -(y_star - y)\n",
    "    return l, dldy"
   ]
  },
  {
   "cell_type": "code",
   "execution_count": 25,
   "metadata": {},
   "outputs": [
    {
     "name": "stdout",
     "output_type": "stream",
     "text": [
      "(10, 1) (10, 1)\n",
      "(10, 1) (10, 1)\n",
      "(10, 1) (10, 1)\n",
      "(10, 1) (10, 1)\n",
      "(10, 1) (10, 1)\n",
      "(10, 1) (10, 1)\n",
      "(10, 1) (10, 1)\n",
      "(10, 1) (10, 1)\n",
      "(10, 1) (10, 1)\n",
      "(10, 1) (10, 1)\n"
     ]
    }
   ],
   "source": [
    "num_epochs = 1\n",
    "for e in range(num_epochs):\n",
    "    batches = generate_training_batches(data, batch_size=m)\n",
    "    \n",
    "    for b in batches:\n",
    "        X = b[:, 0].reshape(1, m)\n",
    "        Y_star = b[:, 1].reshape(n2, m)\n",
    "        \n",
    "        Q1 = np.dot(W1, X) + np.dot(b1, ones_m.T)\n",
    "        Y1, dY1dQ1 = sigmoid(Q1, compute_derivative=True)\n",
    "        \n",
    "        Q2 = np.dot(W2, Y1) + np.dot(b2, ones_m.T)\n",
    "        Y2, dY2dQ2 = linear(Q2, compute_derivative=True)\n",
    "        \n",
    "        L, dLdY2 = loss(Y2, Y_star, compute_derivative=True)\n",
    "        \n",
    "        Phi2 = dLdY2 * dY2dQ2\n",
    "        dLdY1 = np.dot(W2.T, Phi2)\n",
    "        Phi1 = dLdY1 * dY1dQ1\n",
    "        \n",
    "        dLdW1 = np.dot(Phi1, X.T)\n",
    "        dLdb1 = np.dot(Phi1, ones_m)\n",
    "        dLdW2 = np.dot(Phi2, Y1.T)\n",
    "        dLdb2 = np.dot(Phi2, ones_m)\n",
    "        \n",
    "        W1 = W1 - "
   ]
  }
 ],
 "metadata": {
  "kernelspec": {
   "display_name": "Python 3",
   "language": "python",
   "name": "python3"
  },
  "language_info": {
   "codemirror_mode": {
    "name": "ipython",
    "version": 3
   },
   "file_extension": ".py",
   "mimetype": "text/x-python",
   "name": "python",
   "nbconvert_exporter": "python",
   "pygments_lexer": "ipython3",
   "version": "3.6.8"
  }
 },
 "nbformat": 4,
 "nbformat_minor": 4
}
